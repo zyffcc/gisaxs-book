{
 "cells": [
  {
   "cell_type": "markdown",
   "id": "d18bc51e",
   "metadata": {},
   "source": [
    "# GISAXS 数据分析介绍\n",
    "\n",
    "这是一个关于 GISAXS（掠入射小角 X 射线散射）数据分析的教程。\n",
    "\n",
    "## 示例图形\n",
    "\n",
    "下面是一个简单的正弦函数图："
   ]
  },
  {
   "cell_type": "code",
   "execution_count": null,
   "id": "7c91596b",
   "metadata": {
    "vscode": {
     "languageId": "plaintext"
    }
   },
   "outputs": [],
   "source": [
    "import numpy as np\n",
    "import matplotlib.pyplot as plt\n",
    "x = np.linspace(0, 2*np.pi, 200)\n",
    "plt.plot(x, np.sin(x))\n",
    "plt.show()"
   ]
  }
 ],
 "metadata": {
  "language_info": {
   "name": "python"
  }
 },
 "nbformat": 4,
 "nbformat_minor": 5
}
